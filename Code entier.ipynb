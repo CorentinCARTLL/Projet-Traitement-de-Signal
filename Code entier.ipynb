{
 "cells": [
  {
   "cell_type": "markdown",
   "id": "97109a41",
   "metadata": {},
   "source": [
    "# LIVRABLE 4\n",
    "\n",
    "# CARTALLIER Corentin HADDOU Hatim ROUSSEAU Olivier.\n",
    "\n",
    "Ce projet implémente un **système de transmission et de réception de messages sous forme de signal audio haute fréquence**.\n",
    "Le message est **converti en binaire**, **encodé avec un code de Hamming** (7,4) pour la correction d’erreurs, puis **modulé en FSK**.\n",
    "Une fois transmis sous forme de son, le signal peut être reçu, **démodulé**, **décodé** et reconverti en texte.\n",
    "\n",
    "Le projet se divise en **deux parties** :\n",
    "1. **Émission** : Transformation du texte en signal audio FSK et enregistrement dans un fichier `.wav`.\n",
    "2. **Réception** : Analyse du signal, extraction des bits et récupération du message original.\n",
    "\n",
    "Nous allons explorer le fonctionnement du code en le découpant en étapes explicatives.\n"
   ]
  },
  {
   "cell_type": "markdown",
   "id": "b85d3014",
   "metadata": {},
   "source": [
    "# 📡 **Partie 1 : Émetteur (Transmission du Signal FSK)**\n"
   ]
  },
  {
   "cell_type": "markdown",
   "id": "b1d0049f",
   "metadata": {},
   "source": [
    "## 📌 Importation des Bibliothèques\n",
    "\n",
    "Les bibliothèques utilisées permettent :\n",
    "- `numpy` : Manipulation des tableaux numériques.\n",
    "- `sounddevice` : Lecture du son modulé.\n",
    "- `scipy.io.wavfile` : Enregistrement du signal en `.wav`.\n",
    "- `scipy.signal` : Filtrage du signal.\n",
    "- `os` : Gestion des fichiers et répertoires.\n"
   ]
  },
  {
   "cell_type": "code",
   "execution_count": null,
   "id": "dfb76d3f",
   "metadata": {},
   "outputs": [],
   "source": [
    "import numpy as np\n",
    "import sounddevice as sd\n",
    "import scipy.io.wavfile as wav\n",
    "import scipy.signal as sp_signal\n",
    "import os\n"
   ]
  },
  {
   "cell_type": "markdown",
   "id": "ec1fcb9e",
   "metadata": {},
   "source": [
    "## 🎯 Définition des Paramètres\n",
    "\n",
    "Ces paramètres sont **communs** à l’émetteur et au récepteur pour assurer une transmission correcte :\n",
    "- `fs` : Fréquence d’échantillonnage du son.\n",
    "- `bit_rate` : Nombre de bits transmis par seconde.\n",
    "- `f0` et `f1` : Fréquences associées aux bits `0` et `1`.\n",
    "- `bit_duration` : Durée de chaque bit.\n"
   ]
  },
  {
   "cell_type": "code",
   "execution_count": null,
   "id": "a8939b9b",
   "metadata": {},
   "outputs": [],
   "source": [
    "fs = 44100  # Fréquence d'échantillonnage (Hz)\n",
    "bit_rate = 100  # Débit binaire (bits/sec)\n",
    "f0 = 17000  # Fréquence pour un '0' (Hz)\n",
    "f1 = 19000  # Fréquence pour un '1' (Hz)\n",
    "bit_duration = 1 / bit_rate  # Durée d'un bit en secondes\n"
   ]
  },
  {
   "cell_type": "markdown",
   "id": "0dd597af",
   "metadata": {},
   "source": [
    "## 📁 Définition du Chemin du Fichier\n",
    "\n",
    "- **Définit l'emplacement** où sera enregistré le fichier `.wav`.\n",
    "- **Vérifie** si le dossier existe, et le **crée si nécessaire**.\n"
   ]
  },
  {
   "cell_type": "code",
   "execution_count": null,
   "id": "cd018a23",
   "metadata": {},
   "outputs": [],
   "source": [
    "# Définition du chemin du fichier de sortie\n",
    "output_dir = r\"C:\\Users\\CORENTIN CARTALLIER\\Desktop\\CPI A1\\PROJET 3\\Avec importation haute fréquence\"\n",
    "filename = os.path.join(output_dir, \"fsk_transmission.wav\")\n",
    "\n",
    "# Vérification si le dossier existe, sinon le créer\n",
    "if not os.path.exists(output_dir):\n",
    "    os.makedirs(output_dir)\n"
   ]
  },
  {
   "cell_type": "markdown",
   "id": "b14327fb",
   "metadata": {},
   "source": [
    "## 🔹 Conversion du Texte en Binaire\n",
    "\n",
    "Cette fonction transforme chaque caractère ASCII du message en **8 bits**.\n",
    "🔹 Exemple : `\"A\"` → `01000001`\n"
   ]
  },
  {
   "cell_type": "code",
   "execution_count": null,
   "id": "409d108f",
   "metadata": {},
   "outputs": [],
   "source": [
    "def text_to_bits(text):\n",
    "    \"\"\" Convertit un texte en suite de bits \"\"\"\n",
    "    return ''.join(format(ord(c), '08b') for c in text)\n"
   ]
  },
  {
   "cell_type": "markdown",
   "id": "1852a8f6",
   "metadata": {},
   "source": [
    "## 🔹 Codage de Hamming (7,4)\n",
    "\n",
    "Le code de Hamming permet **de corriger des erreurs de transmission**.\n",
    "Il transforme **4 bits de données** en **7 bits**, en ajoutant **3 bits de parité**.\n"
   ]
  },
  {
   "cell_type": "code",
   "execution_count": null,
   "id": "1589497d",
   "metadata": {},
   "outputs": [],
   "source": [
    "def hamming_encode(bits):\n",
    "    \"\"\" Encode les bits avec un code de Hamming (7,4) \"\"\"\n",
    "    n = len(bits)\n",
    "    encoded = []\n",
    "\n",
    "    for i in range(0, n, 4):\n",
    "        data = bits[i:i+4]\n",
    "        p1 = int(data[0]) ^ int(data[1]) ^ int(data[2])\n",
    "        p2 = int(data[0]) ^ int(data[1]) ^ int(data[3])\n",
    "        p3 = int(data[1]) ^ int(data[2]) ^ int(data[3])\n",
    "        code = f\"{p1}{p2}{data[0]}{p3}{data[1]}{data[2]}{data[3]}\"\n",
    "        encoded.append(code)\n",
    "\n",
    "    return ''.join(encoded)\n"
   ]
  },
  {
   "cell_type": "markdown",
   "id": "9287b678",
   "metadata": {},
   "source": [
    "## 🔹 Modulation FSK (Frequency Shift Keying)\n",
    "\n",
    "Cette fonction génère un **signal sonore** :\n",
    "- `0` → Onde sinusoïdale de **17000 Hz**.\n",
    "- `1` → Onde sinusoïdale de **19000 Hz**.\n"
   ]
  },
  {
   "cell_type": "code",
   "execution_count": null,
   "id": "ba740ac6",
   "metadata": {},
   "outputs": [],
   "source": [
    "def fsk_modulation(bits):\n",
    "    \"\"\" Génère un signal FSK à partir d'une suite de bits \"\"\"\n",
    "    t = np.arange(0, bit_duration, 1/fs)\n",
    "    signal = np.array([])\n",
    "\n",
    "    for bit in bits:\n",
    "        freq = f1 if bit == '1' else f0\n",
    "        wave = np.sin(2 * np.pi * freq * t)\n",
    "        signal = np.concatenate((signal, wave))\n",
    "\n",
    "    return signal\n"
   ]
  },
  {
   "cell_type": "markdown",
   "id": "0c8932eb",
   "metadata": {},
   "source": [
    "## 🔹 Saisie de l'Utilisateur et Conversion en Binaire\n",
    "\n",
    "- **Demande à l'utilisateur** d'entrer un message.\n",
    "- **Convertit** ce message en une séquence de bits.\n"
   ]
  },
  {
   "cell_type": "code",
   "execution_count": null,
   "id": "bc23cdff",
   "metadata": {},
   "outputs": [],
   "source": [
    "# Saisie utilisateur\n",
    "message = input(\"Entrez un message à transmettre : \")\n",
    "bits = text_to_bits(message)\n",
    "print(f\"Message en bits : {bits}\")\n"
   ]
  },
  {
   "cell_type": "markdown",
   "id": "b7e6cc11",
   "metadata": {},
   "source": [
    "## 🔹 Appel de la fonction : Encodage avec Hamming (7,4)\n",
    "\n",
    "- **Protège les données** contre les erreurs en ajoutant des bits de parité.\n",
    "- **Affiche le message encodé**.\n"
   ]
  },
  {
   "cell_type": "code",
   "execution_count": null,
   "id": "cf830fbc",
   "metadata": {},
   "outputs": [],
   "source": [
    "# Encodage avec le code de Hamming\n",
    "encoded_bits = hamming_encode(bits)\n",
    "print(f\"Message encodé avec Hamming : {encoded_bits}\")\n"
   ]
  },
  {
   "cell_type": "markdown",
   "id": "5d4f6883",
   "metadata": {},
   "source": [
    "## 🔹 Appel de la fonction : Modulation FSK\n",
    "\n",
    "- **Transforme les bits en signal audio** à haute fréquence.\n"
   ]
  },
  {
   "cell_type": "code",
   "execution_count": null,
   "id": "35aeb385",
   "metadata": {},
   "outputs": [],
   "source": [
    "# Modulation FSK\n",
    "signal = fsk_modulation(encoded_bits)\n"
   ]
  },
  {
   "cell_type": "markdown",
   "id": "721c508f",
   "metadata": {},
   "source": [
    "## 🔹 Normalisation et Sauvegarde du Signal\n",
    "\n",
    "- **Normalise** le signal pour éviter la saturation.\n",
    "- **Convertit le signal** en format audio 16 bits.\n",
    "- **Enregistre le signal** dans un fichier `.wav`.\n"
   ]
  },
  {
   "cell_type": "code",
   "execution_count": null,
   "id": "a94e3851",
   "metadata": {},
   "outputs": [],
   "source": [
    "# Normalisation du signal pour l'enregistrement\n",
    "signal = signal / np.max(np.abs(signal))  # Normalisation pour éviter la saturation\n",
    "signal_int16 = np.int16(signal * 32767)\n",
    "\n",
    "# Sauvegarde dans un fichier WAV\n",
    "try:\n",
    "    wav.write(filename, fs, signal_int16)\n",
    "    print(f\"✅ Signal FSK enregistré dans {filename}\")\n",
    "except Exception as e:\n",
    "    print(f\"Erreur lors de l'enregistrement du fichier WAV : {e}\")\n"
   ]
  },
  {
   "cell_type": "markdown",
   "id": "290b3e00",
   "metadata": {},
   "source": [
    "## 🔹 Lecture du Signal Audio\n",
    "\n",
    "- **Joue le signal audio modulé** pour permettre d'entendre la transmission des données.\n"
   ]
  },
  {
   "cell_type": "code",
   "execution_count": null,
   "id": "b9536666",
   "metadata": {},
   "outputs": [],
   "source": [
    "# Lecture du signal audio\n",
    "try:\n",
    "    sd.play(signal, samplerate=fs)\n",
    "    sd.wait()\n",
    "    print(\"🔊 Lecture terminée.\")\n",
    "except Exception as e:\n",
    "    print(f\"Erreur lors de la lecture audio : {e}\")\n"
   ]
  },
  {
   "cell_type": "markdown",
   "id": "68f00086",
   "metadata": {},
   "source": [
    "# 📥 **Partie 2 : Récepteur (Démodulation et Décodage du Signal FSK)**\n"
   ]
  },
  {
   "cell_type": "markdown",
   "id": "eca88af2",
   "metadata": {},
   "source": [
    "## 📌 Importation des Bibliothèques\n",
    "\n",
    "Ces bibliothèques sont nécessaires pour :  \n",
    "- **NumPy** (`numpy`) : manipulation des données numériques.  \n",
    "- **SciPy** (`scipy.io.wavfile`) : lecture et traitement du fichier audio `.wav`.  \n",
    "- **SciPy** (`scipy.signal`) : filtrage du signal audio.  \n",
    "- **OS** (`os`) : gestion des fichiers et du chemin d'accès.\n"
   ]
  },
  {
   "cell_type": "code",
   "execution_count": null,
   "id": "6d60c554",
   "metadata": {},
   "outputs": [],
   "source": [
    "import numpy as np\n",
    "import scipy.io.wavfile as wav\n",
    "import scipy.signal as sp_signal\n",
    "import os\n"
   ]
  },
  {
   "cell_type": "markdown",
   "id": "30a2389f",
   "metadata": {},
   "source": [
    "## 🎯 Définition des Paramètres\n",
    "\n",
    "Ces paramètres **doivent correspondre** à ceux de l'émetteur pour garantir la bonne réception du signal.  \n",
    "- `fs` : fréquence d'échantillonnage du signal audio.  \n",
    "- `bit_rate` : vitesse de transmission en bits/seconde.  \n",
    "- `f0` et `f1` : fréquences associées aux bits `0` et `1`.  \n",
    "- `bit_duration` : durée de transmission d'un bit.\n"
   ]
  },
  {
   "cell_type": "code",
   "execution_count": null,
   "id": "d8e3dd45",
   "metadata": {},
   "outputs": [],
   "source": [
    "# Paramètres de démodulation (identiques à ceux de l'émetteur)\n",
    "fs = 44100  # Fréquence d'échantillonnage (Hz)\n",
    "bit_rate = 100  # Débit binaire (bits/sec)\n",
    "f0 = 17000  # Fréquence du bit '0' (Hz)\n",
    "f1 = 19000  # Fréquence du bit '1' (Hz)\n",
    "bit_duration = 1 / bit_rate  # Durée d'un bit (s)\n"
   ]
  },
  {
   "cell_type": "markdown",
   "id": "3496217b",
   "metadata": {},
   "source": [
    "## 📁 Définition du Chemin du Fichier\n",
    "\n",
    "Le fichier `.wav` doit être localisé au même endroit que celui utilisé par l'émetteur pour assurer la récupération correcte des données.\n"
   ]
  },
  {
   "cell_type": "code",
   "execution_count": null,
   "id": "58549a5b",
   "metadata": {},
   "outputs": [],
   "source": [
    "# Définition du chemin du fichier audio\n",
    "input_dir = r\"C:\\Users\\CORENTIN CARTALLIER\\Desktop\\CPI A1\\PROJET 3\\Avec importation haute fréquence\"\n",
    "filename = os.path.join(input_dir, \"fsk_transmission.wav\")\n"
   ]
  },
  {
   "cell_type": "markdown",
   "id": "776fe2ec",
   "metadata": {},
   "source": [
    "## 🔹 Filtrage Passe-Bande\n",
    "\n",
    "Cette fonction filtre le signal audio pour **conserver uniquement les fréquences utilisées** pour la transmission FSK.\n"
   ]
  },
  {
   "cell_type": "code",
   "execution_count": null,
   "id": "ac48d380",
   "metadata": {},
   "outputs": [],
   "source": [
    "def bandpass_filter(data, fs, lowcut=16500, highcut=19500, order=4):\n",
    "    \"\"\"Applique un filtre passe-bande Butterworth pour extraire le signal utile.\"\"\"\n",
    "    nyquist = 0.5 * fs\n",
    "    low = lowcut / nyquist\n",
    "    high = highcut / nyquist\n",
    "    b, a = sp_signal.butter(order, [low, high], btype='band')\n",
    "    return sp_signal.filtfilt(b, a, data)\n"
   ]
  },
  {
   "cell_type": "markdown",
   "id": "a66cded2",
   "metadata": {},
   "source": [
    "## 🔹 Démodulation FSK\n",
    "\n",
    "La démodulation repose sur une **analyse spectrale** pour détecter la fréquence dominante et en déduire les bits `0` et `1`.\n"
   ]
  },
  {
   "cell_type": "code",
   "execution_count": null,
   "id": "d041bb93",
   "metadata": {},
   "outputs": [],
   "source": [
    "def demodulate_fsk(audio_signal):\n",
    "    \"\"\"Démodule le signal FSK pour extraire les bits de données.\"\"\"\n",
    "    bits = \"\"\n",
    "    samples_per_bit = int(bit_duration * fs)\n",
    "\n",
    "    for i in range(0, len(audio_signal), samples_per_bit):\n",
    "        segment = audio_signal[i:i + samples_per_bit]\n",
    "\n",
    "        if len(segment) < samples_per_bit:\n",
    "            continue\n",
    "\n",
    "        # Analyse spectrale (FFT) pour détecter la fréquence dominante\n",
    "        fft_result = np.fft.fft(segment)\n",
    "        freqs = np.fft.fftfreq(len(segment), d=1/fs)\n",
    "        magnitude = np.abs(fft_result)\n",
    "\n",
    "        # Comparaison de l’énergie des fréquences `f0` et `f1`\n",
    "        f0_energy = np.sum(magnitude[(freqs >= f0 - 50) & (freqs <= f0 + 50)])\n",
    "        f1_energy = np.sum(magnitude[(freqs >= f1 - 50) & (freqs <= f1 + 50)])\n",
    "\n",
    "        bit = '1' if f1_energy > f0_energy else '0'\n",
    "        bits += bit\n",
    "\n",
    "    return bits\n"
   ]
  },
  {
   "cell_type": "markdown",
   "id": "afbefd3a",
   "metadata": {},
   "source": [
    "## 🔹 Décodage Hamming (7,4)\n",
    "\n",
    "Cette fonction **corrige d'éventuelles erreurs de transmission** en détectant les erreurs via le **syndrome** et en appliquant une correction.\n"
   ]
  },
  {
   "cell_type": "code",
   "execution_count": null,
   "id": "71ae9bde",
   "metadata": {},
   "outputs": [],
   "source": [
    "def hamming_decode(encoded):\n",
    "    \"\"\"Décode les bits avec un code de Hamming (7,4) pour corriger d'éventuelles erreurs.\"\"\"\n",
    "    n = len(encoded)\n",
    "    decoded = []\n",
    "\n",
    "    for i in range(0, n, 7):\n",
    "        code = encoded[i:i+7]\n",
    "        p1, p2, d1, p3, d2, d3, d4 = code\n",
    "        new_p1 = int(d1) ^ int(d2) ^ int(d3)\n",
    "        new_p2 = int(d1) ^ int(d2) ^ int(d4)\n",
    "        new_p3 = int(d2) ^ int(d3) ^ int(d4)\n",
    "        syndrome = f\"{int(p1) ^ new_p1}{int(p2) ^ new_p2}{int(p3) ^ new_p3}\"\n",
    "\n",
    "        if syndrome != \"000\":\n",
    "            error_pos = int(syndrome, 2) - 1\n",
    "            code = code[:error_pos] + str(int(code[error_pos]) ^ 1) + code[error_pos+1:]\n",
    "\n",
    "        decoded.append(f\"{code[2]}{code[4]}{code[5]}{code[6]}\")\n",
    "\n",
    "    return ''.join(decoded)\n"
   ]
  },
  {
   "cell_type": "markdown",
   "id": "e89e8186",
   "metadata": {},
   "source": [
    "## 🔹 Conversion des Bits en Texte\n",
    "\n",
    "Cette fonction **convertit les bits reçus** en caractères ASCII pour **retrouver le message original**.\n"
   ]
  },
  {
   "cell_type": "code",
   "execution_count": null,
   "id": "0a17bbec",
   "metadata": {},
   "outputs": [],
   "source": [
    "def bits_to_text(bits):\n",
    "    \"\"\"Convertit une suite de bits en texte ASCII.\"\"\"\n",
    "    chars = [chr(int(bits[i:i+8], 2)) for i in range(0, len(bits), 8)]\n",
    "    return ''.join(chars)\n"
   ]
  },
  {
   "cell_type": "markdown",
   "id": "851c16dc",
   "metadata": {},
   "source": [
    "## 🔹 Exécution de la Réception du Signal\n",
    "\n",
    "1️⃣ **Vérifie si le fichier `.wav` existe** et charge les données.  \n",
    "2️⃣ **Normalise** le signal audio pour éviter les erreurs numériques.  \n",
    "3️⃣ **Applique un filtre passe-bande** pour isoler les fréquences `f0` et `f1`.  \n",
    "4️⃣ **Démodule le signal FSK** pour retrouver les bits transmis.  \n",
    "5️⃣ **Corrige les erreurs avec Hamming (7,4)** pour fiabiliser les données.  \n",
    "6️⃣ **Convertit les bits en texte ASCII** et affiche le message original.  \n"
   ]
  },
  {
   "cell_type": "code",
   "execution_count": null,
   "id": "e90cc05d",
   "metadata": {},
   "outputs": [],
   "source": [
    "# Vérification de l'existence du fichier\n",
    "if not os.path.exists(filename):\n",
    "    print(f\"❌ Erreur : le fichier {filename} n'existe pas !\")\n",
    "    exit()\n",
    "\n",
    "# Étape 1 : Chargement du fichier audio\n",
    "print(f\"📂 Chargement du fichier : {filename}\")\n",
    "fs, audio_signal = wav.read(filename)\n",
    "\n",
    "# Étape 2 : Normalisation du signal\n",
    "audio_signal = audio_signal.astype(np.float32) / 32767  # Conversion en float\n",
    "\n",
    "# Étape 3 : Application du filtre passe-bande\n",
    "audio_signal = bandpass_filter(audio_signal, fs)\n",
    "\n",
    "# Étape 4 : Démodulation FSK\n",
    "decoded_bits = demodulate_fsk(audio_signal)\n",
    "print(f\"🔢 Bits reçus : {decoded_bits}\")\n",
    "\n",
    "# Étape 5 : Décodage avec le code de Hamming\n",
    "corrected_bits = hamming_decode(decoded_bits)\n",
    "print(f\"🔢 Bits corrigés : {corrected_bits}\")\n",
    "\n",
    "# Étape 6 : Conversion en texte\n",
    "decoded_message = bits_to_text(corrected_bits)\n",
    "print(f\"💬 Message reçu : {decoded_message}\")\n"
   ]
  },
  {
   "cell_type": "markdown",
   "id": "e2f3a42c",
   "metadata": {},
   "source": [
    "# 🔚 Conclusion\n",
    "\n",
    "Ce projet met en œuvre un **système de transmission et réception de données via un signal audio modulé en FSK**.\n",
    "L’émetteur convertit un message texte en signal sonore haute fréquence, tandis que le récepteur **démodule** ce signal pour retrouver les données envoyées.\n",
    "\n",
    "Grâce au **codage de Hamming (7,4)**, les erreurs de transmission peuvent être détectées et corrigées, rendant le système plus fiable.  \n",
    "Ce type de transmission est utile dans des applications où l'utilisation d'ondes sonores pour échanger des données peut être pertinente, comme en **communications sous-marines, en IoT ou en transmission discrète d'informations**.\n",
    "\n",
    "🚀 **Ce projet illustre donc un principe fondamental des télécommunications numériques !**\n"
   ]
  },
  {
   "cell_type": "markdown",
   "id": "cb054bb1",
   "metadata": {},
   "source": [
    "# 🔚 Conclusion\n",
    "\n",
    "Ce projet montre comment on peut **transmettre un message sous forme de son** et le **récupérer après transmission**.  \n",
    "L'émetteur transforme un texte en signal audio, puis le récepteur **démodule et corrige** les erreurs pour retrouver le message original.\n",
    "\n"
   ]
  }
 ],
 "metadata": {
  "language_info": {
   "name": "python"
  }
 },
 "nbformat": 4,
 "nbformat_minor": 5
}
